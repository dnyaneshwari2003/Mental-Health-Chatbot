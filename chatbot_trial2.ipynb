{
  "nbformat": 4,
  "nbformat_minor": 0,
  "metadata": {
    "colab": {
      "provenance": []
    },
    "kernelspec": {
      "name": "python3",
      "display_name": "Python 3"
    },
    "language_info": {
      "name": "python"
    }
  },
  "cells": [
    {
      "cell_type": "markdown",
      "source": [
        "with dataset : works very well on dataset , nice"
      ],
      "metadata": {
        "id": "ZnC8HB1EXFgx"
      }
    },
    {
      "cell_type": "code",
      "source": [
        "import numpy as np\n",
        "import nltk\n",
        "import string\n",
        "import random\n",
        "import pandas as pd\n",
        "from sklearn.feature_extraction.text import TfidfVectorizer\n",
        "from sklearn.metrics.pairwise import cosine_similarity\n",
        "from nltk.stem import WordNetLemmatizer\n",
        "\n",
        "# Ensure the NLTK data directory is set correctly\n",
        "nltk.data.path.append('/root/nltk_data')\n",
        "nltk.download('punkt')\n",
        "nltk.download('wordnet')\n",
        "nltk.download('punkt_tab')\n",
        "\n",
        "\n",
        "# Provide the file path directly\n",
        "file_path = \"/content/Mental_Health_FAQ.csv\"\n",
        "df = pd.read_csv(file_path)\n",
        "\n",
        "# Display column names for debugging\n",
        "print(\"CSV Columns:\", df.columns.tolist())\n",
        "\n",
        "# Ensure the correct columns exist\n",
        "expected_columns = ['Questions', 'Answers']\n",
        "for col in expected_columns:\n",
        "    if col not in df.columns:\n",
        "        raise KeyError(f\"The CSV file must contain a '{col}' column.\")\n",
        "\n",
        "# Convert text to lowercase and preprocess\n",
        "sent_tokens = df['Questions'].dropna().astype(str).str.lower().tolist()\n",
        "word_tokens = nltk.word_tokenize(\" \".join(sent_tokens))\n",
        "\n",
        "lemmer = WordNetLemmatizer()\n",
        "remove_punct_dict = dict((ord(punct), None) for punct in string.punctuation)\n",
        "\n",
        "def LemTokens(tokens):\n",
        "    return [lemmer.lemmatize(token) for token in tokens]\n",
        "\n",
        "def LemNormalize(text):\n",
        "    return LemTokens(nltk.word_tokenize(text.lower().translate(remove_punct_dict)))\n",
        "\n",
        "GREET_INPUTS = (\"hello\", \"hi\", \"greetings\", \"sup\", \"what's up\", \"hey\")\n",
        "GREET_RESPONSES = [\"hi\", \"hey\", \"*nods*\", \"hi there\", \"hello\", \"I am glad! You are talking to me\"]\n",
        "\n",
        "def greet(sentence):\n",
        "    for word in sentence.split():\n",
        "        if word.lower() in GREET_INPUTS:\n",
        "            return random.choice(GREET_RESPONSES)\n",
        "\n",
        "def response(user_response):\n",
        "    robo1_response = ''\n",
        "    sent_tokens.append(user_response)\n",
        "    TfidfVec = TfidfVectorizer(tokenizer=LemNormalize, stop_words='english')\n",
        "    tfidf = TfidfVec.fit_transform(sent_tokens)\n",
        "    vals = cosine_similarity(tfidf[-1], tfidf)\n",
        "    idx = vals.argsort()[0][-2]\n",
        "    flat = vals.flatten()\n",
        "    flat.sort()\n",
        "    req_tfidf = flat[-2]\n",
        "    sent_tokens.pop()  # Remove the user input after processing\n",
        "\n",
        "    if req_tfidf == 0:\n",
        "        return \"I am sorry! I don't understand you.\"\n",
        "    else:\n",
        "        return df['Answers'].iloc[idx]\n",
        "\n",
        "# Chatbot interaction\n",
        "print(\"BOT: My name is Stark. Let's have a conversation! Type 'Bye' to exit.\")\n",
        "flag = True\n",
        "\n",
        "while flag:\n",
        "    user_response = input(\"You: \").lower()\n",
        "    if user_response != 'bye':\n",
        "        if user_response in [\"thanks\", \"thank you\"]:\n",
        "            print(\"BOT: You are welcome!\")\n",
        "            flag = False\n",
        "        elif greet(user_response):\n",
        "            print(\"BOT: \" + greet(user_response))\n",
        "        else:\n",
        "            print(\"BOT:\", response(user_response))\n",
        "    else:\n",
        "        print(\"BOT: Goodbye! Take care <3\")\n",
        "        flag = False"
      ],
      "metadata": {
        "colab": {
          "base_uri": "https://localhost:8080/"
        },
        "id": "i1X5j0nVapzy",
        "outputId": "ff9aa7b5-c3a5-46c6-f273-9df2cc1ad910"
      },
      "execution_count": null,
      "outputs": [
        {
          "output_type": "stream",
          "name": "stderr",
          "text": [
            "[nltk_data] Downloading package punkt to /root/nltk_data...\n",
            "[nltk_data]   Package punkt is already up-to-date!\n",
            "[nltk_data] Downloading package wordnet to /root/nltk_data...\n",
            "[nltk_data]   Package wordnet is already up-to-date!\n",
            "[nltk_data] Downloading package punkt_tab to /root/nltk_data...\n",
            "[nltk_data]   Package punkt_tab is already up-to-date!\n"
          ]
        },
        {
          "name": "stdout",
          "output_type": "stream",
          "text": [
            "CSV Columns: ['Question_ID', 'Questions', 'Answers']\n",
            "BOT: My name is Stark. Let's have a conversation! Type 'Bye' to exit.\n",
            "You: hi\n",
            "BOT: *nods*\n",
            "You: i feel sad\n"
          ]
        },
        {
          "output_type": "stream",
          "name": "stderr",
          "text": [
            "/usr/local/lib/python3.11/dist-packages/sklearn/feature_extraction/text.py:517: UserWarning: The parameter 'token_pattern' will not be used since 'tokenizer' is not None'\n",
            "  warnings.warn(\n",
            "/usr/local/lib/python3.11/dist-packages/sklearn/feature_extraction/text.py:402: UserWarning: Your stop_words may be inconsistent with your preprocessing. Tokenizing the stop words generated tokens ['ha', 'u', 'wa'] not in stop_words.\n",
            "  warnings.warn(\n"
          ]
        },
        {
          "output_type": "stream",
          "name": "stdout",
          "text": [
            "BOT: A lot of people are alone right now, but we don't have to be lonely. We're all in this together. \n",
            " While you may be physically separated from friends, family members, and other loved ones, it has never been more important to maintain those social connections. Social connections are an opportunity to seek and share support, talk through difficult feelings, share a laugh, keep up-to-date with loved ones, and help each other cope. This pandemic is a lot for one person to deal with on their own. While measures like physical distancing and self-isolation are necessary to slow the spread of the virus, the physical separation can amplify a lot of challenging emotions like loneliness and fear. \n",
            " Think about the different ways to connect that are most meaningful for you. For example, you might prefer a video chat over a phone call, or you might prefer to text throughout the day rather than one set time for a video call. Then, work with your social networks to make a plan. You might video chat with your close friends in the evening and phone a family member once a week. \n",
            " Remember to be mindful of people who may not be online. Check in by phone and ask how you can help. \n",
            " The quality of your social connections matter. Mindlessly scrolling through social media and liking a few posts usually doesn't build strong social connections. Make sure you focus on strategies that actually make you feel included and connected. If your current strategies don't help you feel connected, problem-solve to see if you can find a solution. \n",
            " Everyone feels lonely at times—maybe you recently moved to a new city, are changing your circle of friends, lost someone important in your life, or lost your job and also lost important social connections with coworkers. Other people may have physical connections to others but may feel like their emotional or social needs aren't met. Measures like social distancing or self-isolation can make loneliness feel worse no matter why you feel lonely now. \n",
            " Reach out to the connections you do have. Suggest ways to keep in touch and see if you can set a regular time to connect. People may hesitate to reach out for a lot of different reasons, so don't be afraid to be the one who asks. \n",
            " Look for local community support groups and mutual aid groups on social media. This pandemic is bringing everyone together, so look for opportunities to make new connections. These groups are a great way to share your skills and abilities or seek help and support. \n",
            " Look for specialized support groups. Support groups are moving online, and there are a lot of different support lines to call if you need to talk to someone. To find community services in BC, call or text 211 or visit www.bc211.ca. \n",
            " If you need extra support, you can talk with a psychologist or counsellor for free: \n",
            " You can access a free phone call with a Registered Psychologist though the Covid-19 Psychological Support Service from the BC Psychological Association. Visit www.psychologists.bc.ca/covid-19-resources. \n",
            " You can access free, phone-based, short-term support with a counsellor from a new group called the BC COVID-19 Mental Health Network. Email bccovidtherapists@gmail.com to receive an appointment time. \n",
            " For youth people ages 12-24, you can talk with a counsellor for free through Foundry Virtual. Visit foundrybc.ca/get-support/virtual/. \n",
            " Call the BC Mental Health Support Line at 310-6789. It’s available 24/7. \n",
            " Chat online with a Crisis Center volunteer at www.crisiscentrechat.ca (daily between noon and 1:00am) \n",
            " For older adults: Call the Seniors Distress Line at 604-872-123 \n",
            " For youth and young adults: Chat online with a volunteer at www.YouthinBC.com (daily between noon and 1:00am) \n",
            " For children and youth: Call the Kids Help Phone at 1-800-668-6868 or visit kidshelpphone.ca \n",
            " For tips on managing loneliness, check out the following resources: \n",
            " Coping with Loneliness from the Canadian Mental Health Association: cmha.bc.ca/documents/coping-with-loneliness/ \n",
            " Loneliness and Social Connection issue of Visions Journal at www.heretohelp.bc.ca/visions/loneliness-and-social-connection-vol14 \n",
            " Wellness Module 3: Social Support at www.heretohelp.bc.ca/wellness-module/wellness-module-3-social-support\n",
            "You: i feel anxious \n",
            "BOT: A lot of people are alone right now, but we don't have to be lonely. We're all in this together. \n",
            " While you may be physically separated from friends, family members, and other loved ones, it has never been more important to maintain those social connections. Social connections are an opportunity to seek and share support, talk through difficult feelings, share a laugh, keep up-to-date with loved ones, and help each other cope. This pandemic is a lot for one person to deal with on their own. While measures like physical distancing and self-isolation are necessary to slow the spread of the virus, the physical separation can amplify a lot of challenging emotions like loneliness and fear. \n",
            " Think about the different ways to connect that are most meaningful for you. For example, you might prefer a video chat over a phone call, or you might prefer to text throughout the day rather than one set time for a video call. Then, work with your social networks to make a plan. You might video chat with your close friends in the evening and phone a family member once a week. \n",
            " Remember to be mindful of people who may not be online. Check in by phone and ask how you can help. \n",
            " The quality of your social connections matter. Mindlessly scrolling through social media and liking a few posts usually doesn't build strong social connections. Make sure you focus on strategies that actually make you feel included and connected. If your current strategies don't help you feel connected, problem-solve to see if you can find a solution. \n",
            " Everyone feels lonely at times—maybe you recently moved to a new city, are changing your circle of friends, lost someone important in your life, or lost your job and also lost important social connections with coworkers. Other people may have physical connections to others but may feel like their emotional or social needs aren't met. Measures like social distancing or self-isolation can make loneliness feel worse no matter why you feel lonely now. \n",
            " Reach out to the connections you do have. Suggest ways to keep in touch and see if you can set a regular time to connect. People may hesitate to reach out for a lot of different reasons, so don't be afraid to be the one who asks. \n",
            " Look for local community support groups and mutual aid groups on social media. This pandemic is bringing everyone together, so look for opportunities to make new connections. These groups are a great way to share your skills and abilities or seek help and support. \n",
            " Look for specialized support groups. Support groups are moving online, and there are a lot of different support lines to call if you need to talk to someone. To find community services in BC, call or text 211 or visit www.bc211.ca. \n",
            " If you need extra support, you can talk with a psychologist or counsellor for free: \n",
            " You can access a free phone call with a Registered Psychologist though the Covid-19 Psychological Support Service from the BC Psychological Association. Visit www.psychologists.bc.ca/covid-19-resources. \n",
            " You can access free, phone-based, short-term support with a counsellor from a new group called the BC COVID-19 Mental Health Network. Email bccovidtherapists@gmail.com to receive an appointment time. \n",
            " For youth people ages 12-24, you can talk with a counsellor for free through Foundry Virtual. Visit foundrybc.ca/get-support/virtual/. \n",
            " Call the BC Mental Health Support Line at 310-6789. It’s available 24/7. \n",
            " Chat online with a Crisis Center volunteer at www.crisiscentrechat.ca (daily between noon and 1:00am) \n",
            " For older adults: Call the Seniors Distress Line at 604-872-123 \n",
            " For youth and young adults: Chat online with a volunteer at www.YouthinBC.com (daily between noon and 1:00am) \n",
            " For children and youth: Call the Kids Help Phone at 1-800-668-6868 or visit kidshelpphone.ca \n",
            " For tips on managing loneliness, check out the following resources: \n",
            " Coping with Loneliness from the Canadian Mental Health Association: cmha.bc.ca/documents/coping-with-loneliness/ \n",
            " Loneliness and Social Connection issue of Visions Journal at www.heretohelp.bc.ca/visions/loneliness-and-social-connection-vol14 \n",
            " Wellness Module 3: Social Support at www.heretohelp.bc.ca/wellness-module/wellness-module-3-social-support\n",
            "You: What does it mean to have a mental illness?\n",
            "BOT: Mental illnesses are health conditions that disrupt a personâ€™s thoughts, emotions, relationships, and daily functioning. They are associated with distress and diminished capacity to engage in the ordinary activities of daily life.\n",
            "Mental illnesses fall along a continuum of severity: some are fairly mild and only interfere with some aspects of life, such as certain phobias. On the other end of the spectrum lie serious mental illnesses, which result in major functional impairment and interference with daily life. These include such disorders as major depression, schizophrenia, and bipolar disorder, and may require that the person receives care in a hospital.\n",
            "It is important to know that mental illnesses are medical conditions that have nothing to do with a personâ€™s character, intelligence, or willpower. Just as diabetes is a disorder of the pancreas, mental illness is a medical condition due to the brainâ€™s biology.\n",
            "Similarly to how one would treat diabetes with medication and insulin, mental illness is treatable with a combination of medication and social support. These treatments are highly effective, with 70-90 percent of individuals receiving treatment experiencing a reduction in symptoms and an improved quality of life. With the proper treatment, it is very possible for a person with mental illness to be independent and successful.\n",
            "You:  Can people with mental illness recover?\n",
            "BOT: When healing from mental illness, early identification and treatment are of vital importance. Based on the nature of the illness, there are a range of effective treatments available. For any type of treatment, it is essential that the person affected is proactive and fully engaged in their own recovery process.\n",
            "Many people with mental illnesses who are diagnosed and treated respond well, although some might experience a return of symptoms. Even in such cases, with careful monitoring and management of the disorder, it is still quite possible to live a fulfilled and productive life.\n",
            "You: how to deal with depression\n",
            "BOT: Some people may advise you on good evidence of what works with the best of intentions, but it's important to find out what works best for you.\n",
            "You: what about therapy\n",
            "BOT: Different kinds of therapy are more effective based on the nature of the mental health condition and/or symptoms and the person who has them (for example, children will benefit from a therapist who specializes in children’s mental health). However, there are several different types of treatment and therapy that can help.\n",
            "You: bye\n",
            "BOT: Goodbye! Take care <3\n"
          ]
        }
      ]
    },
    {
      "cell_type": "markdown",
      "source": [],
      "metadata": {
        "id": "xwoD9-Cot6pO"
      }
    },
    {
      "cell_type": "markdown",
      "source": [
        "with web crawling/ dosent work :(((("
      ],
      "metadata": {
        "id": "_4P9bleat6ce"
      }
    },
    {
      "cell_type": "code",
      "source": [],
      "metadata": {
        "id": "taYLSktAu821"
      },
      "execution_count": null,
      "outputs": []
    },
    {
      "cell_type": "code",
      "source": [
        "import numpy as np\n",
        "import nltk\n",
        "import string\n",
        "import random\n",
        "import pandas as pd\n",
        "import requests\n",
        "from bs4 import BeautifulSoup\n",
        "from sklearn.feature_extraction.text import TfidfVectorizer\n",
        "from sklearn.metrics.pairwise import cosine_similarity\n",
        "from nltk.stem import WordNetLemmatizer\n",
        "\n",
        "# Ensure necessary NLTK resources are available\n",
        "nltk.download('punkt')\n",
        "nltk.download('wordnet')\n",
        "\n",
        "# Function to scrape Q&A data from a given webpage\n",
        "def scrape_qa_data(url):\n",
        "    response = requests.get(url)\n",
        "    if response.status_code != 200:\n",
        "        raise Exception(f\"Failed to fetch data from {url}\")\n",
        "\n",
        "    soup = BeautifulSoup(response.text, 'html.parser')\n",
        "    questions = [q.get_text(strip=True) for q in soup.select('.question-selector')]\n",
        "    answers = [a.get_text(strip=True) for a in soup.select('.answer-selector')]\n",
        "\n",
        "    if len(questions) != len(answers):\n",
        "        raise ValueError(\"Mismatch between number of questions and answers\")\n",
        "\n",
        "    return pd.DataFrame({'Questions': questions, 'Answers': answers})\n",
        "\n",
        "# Provide a URL to scrape data\n",
        "url = \"https://medlineplus.gov/howtoimprovementalhealth.html\"\n",
        "df = scrape_qa_data(url)\n",
        "df.to_csv(\"chatbot_data.csv\", index=False)\n",
        "\n",
        "# Text preprocessing\n",
        "sent_tokens = df['Questions'].dropna().astype(str).str.lower().tolist()\n",
        "word_tokens = nltk.word_tokenize(\" \".join(sent_tokens))\n",
        "\n",
        "lemmer = WordNetLemmatizer()\n",
        "remove_punct_dict = dict((ord(punct), None) for punct in string.punctuation)\n",
        "\n",
        "def LemTokens(tokens):\n",
        "    return [lemmer.lemmatize(token) for token in tokens]\n",
        "\n",
        "def LemNormalize(text):\n",
        "    return LemTokens(nltk.word_tokenize(text.lower().translate(remove_punct_dict)))\n",
        "\n",
        "# Greeting inputs and responses\n",
        "GREET_INPUTS = (\"hello\", \"hi\", \"greetings\", \"sup\", \"what's up\", \"hey\")\n",
        "GREET_RESPONSES = [\"hi\", \"hey\", \"*nods*\", \"hi there\", \"hello\", \"I am glad! You are talking to me\"]\n",
        "\n",
        "def greet(sentence):\n",
        "    for word in sentence.split():\n",
        "        if word.lower() in GREET_INPUTS:\n",
        "            return random.choice(GREET_RESPONSES)\n",
        "\n",
        "def response(user_response):\n",
        "    sent_tokens.append(user_response)\n",
        "    TfidfVec = TfidfVectorizer(tokenizer=LemNormalize, stop_words='english')\n",
        "    tfidf = TfidfVec.fit_transform(sent_tokens)\n",
        "    vals = cosine_similarity(tfidf[-1], tfidf)\n",
        "    sent_tokens.pop()  # Remove the user input after processing\n",
        "\n",
        "    if vals.shape[1] < 2:  # Not enough sentences for comparison\n",
        "        return \"I am sorry! I don't understand you.\"\n",
        "\n",
        "    idx = vals.argsort()[0][-2]\n",
        "    flat = vals.flatten()\n",
        "    flat.sort()\n",
        "    req_tfidf = flat[-2]\n",
        "\n",
        "    if req_tfidf == 0:\n",
        "        return \"I am sorry! I don't understand you.\"\n",
        "    else:\n",
        "        return sent_tokens[idx]\n",
        "\n",
        "# Chatbot interaction\n",
        "print(\"BOT: My name is Stark. Let's have a conversation! Type 'Bye' to exit.\")\n",
        "\n",
        "flag = True\n",
        "while flag:\n",
        "    user_response = input(\"You: \").lower()\n",
        "    if user_response != 'bye':\n",
        "        if user_response in [\"thanks\", \"thank you\"]:\n",
        "            print(\"BOT: You are welcome!\")\n",
        "            flag = False\n",
        "        elif greet(user_response):\n",
        "            print(\"BOT: \" + greet(user_response))\n",
        "        else:\n",
        "            print(\"BOT:\", response(user_response))\n",
        "    else:\n",
        "        print(\"BOT: Goodbye! Take care <3\")\n",
        "        flag = False"
      ],
      "metadata": {
        "colab": {
          "base_uri": "https://localhost:8080/"
        },
        "id": "mUKDS6nZvjox",
        "outputId": "2670a87f-8e80-41f0-84dc-311b1d970c27"
      },
      "execution_count": null,
      "outputs": [
        {
          "output_type": "stream",
          "name": "stderr",
          "text": [
            "[nltk_data] Downloading package punkt to /root/nltk_data...\n",
            "[nltk_data]   Package punkt is already up-to-date!\n",
            "[nltk_data] Downloading package wordnet to /root/nltk_data...\n",
            "[nltk_data]   Package wordnet is already up-to-date!\n"
          ]
        },
        {
          "name": "stdout",
          "output_type": "stream",
          "text": [
            "BOT: My name is Stark. Let's have a conversation! Type 'Bye' to exit.\n",
            "You: hi\n",
            "BOT: hey\n",
            "You: what is mental health\n"
          ]
        },
        {
          "output_type": "stream",
          "name": "stderr",
          "text": [
            "/usr/local/lib/python3.11/dist-packages/sklearn/feature_extraction/text.py:517: UserWarning: The parameter 'token_pattern' will not be used since 'tokenizer' is not None'\n",
            "  warnings.warn(\n",
            "/usr/local/lib/python3.11/dist-packages/sklearn/feature_extraction/text.py:402: UserWarning: Your stop_words may be inconsistent with your preprocessing. Tokenizing the stop words generated tokens ['ha', 'u', 'wa'] not in stop_words.\n",
            "  warnings.warn(\n"
          ]
        },
        {
          "output_type": "stream",
          "name": "stdout",
          "text": [
            "BOT: I am sorry! I don't understand you.\n",
            "You: how to deal with depression\n",
            "BOT: I am sorry! I don't understand you.\n",
            "You: Can people with mental illness recover?\n",
            "BOT: I am sorry! I don't understand you.\n",
            "You: bye\n",
            "BOT: Goodbye! Take care <3\n"
          ]
        }
      ]
    },
    {
      "cell_type": "code",
      "source": [],
      "metadata": {
        "id": "oIZAyg5Ivjiu"
      },
      "execution_count": null,
      "outputs": []
    },
    {
      "cell_type": "markdown",
      "source": [],
      "metadata": {
        "id": "v-v15qYnfP7h"
      }
    },
    {
      "cell_type": "markdown",
      "source": [
        "using hugging face"
      ],
      "metadata": {
        "id": "TDY09kgHuJdM"
      }
    },
    {
      "cell_type": "code",
      "source": [],
      "metadata": {
        "id": "QydvKSO5vDP1"
      },
      "execution_count": null,
      "outputs": []
    },
    {
      "cell_type": "code",
      "source": [],
      "metadata": {
        "id": "i_0jl3ISuxgb"
      },
      "execution_count": null,
      "outputs": []
    }
  ]
}